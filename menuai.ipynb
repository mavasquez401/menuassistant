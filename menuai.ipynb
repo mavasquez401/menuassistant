{
 "cells": [
  {
   "cell_type": "code",
   "execution_count": 4,
   "metadata": {},
   "outputs": [
    {
     "name": "stdout",
     "output_type": "stream",
     "text": [
      "Requirement already satisfied: rauth in /Library/Frameworks/Python.framework/Versions/3.12/lib/python3.12/site-packages (0.7.3)\n",
      "Requirement already satisfied: requests>=1.2.3 in /Library/Frameworks/Python.framework/Versions/3.12/lib/python3.12/site-packages (from rauth) (2.32.3)\n",
      "Requirement already satisfied: charset-normalizer<4,>=2 in /Library/Frameworks/Python.framework/Versions/3.12/lib/python3.12/site-packages (from requests>=1.2.3->rauth) (3.3.2)\n",
      "Requirement already satisfied: idna<4,>=2.5 in /Library/Frameworks/Python.framework/Versions/3.12/lib/python3.12/site-packages (from requests>=1.2.3->rauth) (3.7)\n",
      "Requirement already satisfied: urllib3<3,>=1.21.1 in /Library/Frameworks/Python.framework/Versions/3.12/lib/python3.12/site-packages (from requests>=1.2.3->rauth) (2.2.2)\n",
      "Requirement already satisfied: certifi>=2017.4.17 in /Library/Frameworks/Python.framework/Versions/3.12/lib/python3.12/site-packages (from requests>=1.2.3->rauth) (2024.6.2)\n",
      "Note: you may need to restart the kernel to use updated packages.\n",
      "Collecting dotenv\n",
      "  Using cached dotenv-0.0.5.tar.gz (2.4 kB)\n",
      "  Preparing metadata (setup.py) ... \u001b[?25lerror\n",
      "  \u001b[1;31merror\u001b[0m: \u001b[1msubprocess-exited-with-error\u001b[0m\n",
      "  \n",
      "  \u001b[31m×\u001b[0m \u001b[32mpython setup.py egg_info\u001b[0m did not run successfully.\n",
      "  \u001b[31m│\u001b[0m exit code: \u001b[1;36m1\u001b[0m\n",
      "  \u001b[31m╰─>\u001b[0m \u001b[31m[67 lines of output]\u001b[0m\n",
      "  \u001b[31m   \u001b[0m /Library/Frameworks/Python.framework/Versions/3.12/lib/python3.12/site-packages/setuptools/__init__.py:80: _DeprecatedInstaller: setuptools.installer and fetch_build_eggs are deprecated.\n",
      "  \u001b[31m   \u001b[0m !!\n",
      "  \u001b[31m   \u001b[0m \n",
      "  \u001b[31m   \u001b[0m         ********************************************************************************\n",
      "  \u001b[31m   \u001b[0m         Requirements should be satisfied by a PEP 517 installer.\n",
      "  \u001b[31m   \u001b[0m         If you are using pip, you can try `pip install --use-pep517`.\n",
      "  \u001b[31m   \u001b[0m         ********************************************************************************\n",
      "  \u001b[31m   \u001b[0m \n",
      "  \u001b[31m   \u001b[0m !!\n",
      "  \u001b[31m   \u001b[0m   dist.fetch_build_eggs(dist.setup_requires)\n",
      "  \u001b[31m   \u001b[0m   \u001b[1;31merror\u001b[0m: \u001b[1msubprocess-exited-with-error\u001b[0m\n",
      "  \u001b[31m   \u001b[0m \n",
      "  \u001b[31m   \u001b[0m   \u001b[31m×\u001b[0m \u001b[32mpython setup.py egg_info\u001b[0m did not run successfully.\n",
      "  \u001b[31m   \u001b[0m   \u001b[31m│\u001b[0m exit code: \u001b[1;36m1\u001b[0m\n",
      "  \u001b[31m   \u001b[0m   \u001b[31m╰─>\u001b[0m \u001b[31m[1 lines of output]\u001b[0m\n",
      "  \u001b[31m   \u001b[0m   \u001b[31m   \u001b[0m ERROR: Can not execute `setup.py` since setuptools is not available in the build environment.\n",
      "  \u001b[31m   \u001b[0m   \u001b[31m   \u001b[0m \u001b[31m[end of output]\u001b[0m\n",
      "  \u001b[31m   \u001b[0m \n",
      "  \u001b[31m   \u001b[0m   \u001b[1;35mnote\u001b[0m: This error originates from a subprocess, and is likely not a problem with pip.\n",
      "  \u001b[31m   \u001b[0m \u001b[1;31merror\u001b[0m: \u001b[1mmetadata-generation-failed\u001b[0m\n",
      "  \u001b[31m   \u001b[0m \n",
      "  \u001b[31m   \u001b[0m \u001b[31m×\u001b[0m Encountered error while generating package metadata.\n",
      "  \u001b[31m   \u001b[0m \u001b[31m╰─>\u001b[0m See above for output.\n",
      "  \u001b[31m   \u001b[0m \n",
      "  \u001b[31m   \u001b[0m \u001b[1;35mnote\u001b[0m: This is an issue with the package mentioned above, not pip.\n",
      "  \u001b[31m   \u001b[0m \u001b[1;36mhint\u001b[0m: See above for details.\n",
      "  \u001b[31m   \u001b[0m Traceback (most recent call last):\n",
      "  \u001b[31m   \u001b[0m   File \"/Library/Frameworks/Python.framework/Versions/3.12/lib/python3.12/site-packages/setuptools/installer.py\", line 101, in _fetch_build_egg_no_warn\n",
      "  \u001b[31m   \u001b[0m     subprocess.check_call(cmd)\n",
      "  \u001b[31m   \u001b[0m   File \"/Library/Frameworks/Python.framework/Versions/3.12/lib/python3.12/subprocess.py\", line 413, in check_call\n",
      "  \u001b[31m   \u001b[0m     raise CalledProcessError(retcode, cmd)\n",
      "  \u001b[31m   \u001b[0m subprocess.CalledProcessError: Command '['/usr/local/bin/python3', '-m', 'pip', '--disable-pip-version-check', 'wheel', '--no-deps', '-w', '/var/folders/hq/lb9cxpld497dgqx29lfjj61w0000gn/T/tmpe6whw5e9', '--quiet', 'distribute']' returned non-zero exit status 1.\n",
      "  \u001b[31m   \u001b[0m \n",
      "  \u001b[31m   \u001b[0m The above exception was the direct cause of the following exception:\n",
      "  \u001b[31m   \u001b[0m \n",
      "  \u001b[31m   \u001b[0m Traceback (most recent call last):\n",
      "  \u001b[31m   \u001b[0m   File \"<string>\", line 2, in <module>\n",
      "  \u001b[31m   \u001b[0m   File \"<pip-setuptools-caller>\", line 34, in <module>\n",
      "  \u001b[31m   \u001b[0m   File \"/private/var/folders/hq/lb9cxpld497dgqx29lfjj61w0000gn/T/pip-install-k0iqbf1h/dotenv_322ea3bf035b40c3b70454662cbf66f3/setup.py\", line 13, in <module>\n",
      "  \u001b[31m   \u001b[0m     setup(name='dotenv',\n",
      "  \u001b[31m   \u001b[0m   File \"/Library/Frameworks/Python.framework/Versions/3.12/lib/python3.12/site-packages/setuptools/__init__.py\", line 102, in setup\n",
      "  \u001b[31m   \u001b[0m     _install_setup_requires(attrs)\n",
      "  \u001b[31m   \u001b[0m   File \"/Library/Frameworks/Python.framework/Versions/3.12/lib/python3.12/site-packages/setuptools/__init__.py\", line 75, in _install_setup_requires\n",
      "  \u001b[31m   \u001b[0m     _fetch_build_eggs(dist)\n",
      "  \u001b[31m   \u001b[0m   File \"/Library/Frameworks/Python.framework/Versions/3.12/lib/python3.12/site-packages/setuptools/__init__.py\", line 80, in _fetch_build_eggs\n",
      "  \u001b[31m   \u001b[0m     dist.fetch_build_eggs(dist.setup_requires)\n",
      "  \u001b[31m   \u001b[0m   File \"/Library/Frameworks/Python.framework/Versions/3.12/lib/python3.12/site-packages/setuptools/dist.py\", line 641, in fetch_build_eggs\n",
      "  \u001b[31m   \u001b[0m     return _fetch_build_eggs(self, requires)\n",
      "  \u001b[31m   \u001b[0m            ^^^^^^^^^^^^^^^^^^^^^^^^^^^^^^^^^\n",
      "  \u001b[31m   \u001b[0m   File \"/Library/Frameworks/Python.framework/Versions/3.12/lib/python3.12/site-packages/setuptools/installer.py\", line 38, in _fetch_build_eggs\n",
      "  \u001b[31m   \u001b[0m     resolved_dists = pkg_resources.working_set.resolve(\n",
      "  \u001b[31m   \u001b[0m                      ^^^^^^^^^^^^^^^^^^^^^^^^^^^^^^^^^^\n",
      "  \u001b[31m   \u001b[0m   File \"/Library/Frameworks/Python.framework/Versions/3.12/lib/python3.12/site-packages/pkg_resources/__init__.py\", line 889, in resolve\n",
      "  \u001b[31m   \u001b[0m     dist = self._resolve_dist(\n",
      "  \u001b[31m   \u001b[0m            ^^^^^^^^^^^^^^^^^^^\n",
      "  \u001b[31m   \u001b[0m   File \"/Library/Frameworks/Python.framework/Versions/3.12/lib/python3.12/site-packages/pkg_resources/__init__.py\", line 925, in _resolve_dist\n",
      "  \u001b[31m   \u001b[0m     dist = best[req.key] = env.best_match(\n",
      "  \u001b[31m   \u001b[0m                            ^^^^^^^^^^^^^^^\n",
      "  \u001b[31m   \u001b[0m   File \"/Library/Frameworks/Python.framework/Versions/3.12/lib/python3.12/site-packages/pkg_resources/__init__.py\", line 1256, in best_match\n",
      "  \u001b[31m   \u001b[0m     return self.obtain(req, installer)\n",
      "  \u001b[31m   \u001b[0m            ^^^^^^^^^^^^^^^^^^^^^^^^^^^\n",
      "  \u001b[31m   \u001b[0m   File \"/Library/Frameworks/Python.framework/Versions/3.12/lib/python3.12/site-packages/pkg_resources/__init__.py\", line 1292, in obtain\n",
      "  \u001b[31m   \u001b[0m     return installer(requirement) if installer else None\n",
      "  \u001b[31m   \u001b[0m            ^^^^^^^^^^^^^^^^^^^^^^\n",
      "  \u001b[31m   \u001b[0m   File \"/Library/Frameworks/Python.framework/Versions/3.12/lib/python3.12/site-packages/setuptools/installer.py\", line 103, in _fetch_build_egg_no_warn\n",
      "  \u001b[31m   \u001b[0m     raise DistutilsError(str(e)) from e\n",
      "  \u001b[31m   \u001b[0m distutils.errors.DistutilsError: Command '['/usr/local/bin/python3', '-m', 'pip', '--disable-pip-version-check', 'wheel', '--no-deps', '-w', '/var/folders/hq/lb9cxpld497dgqx29lfjj61w0000gn/T/tmpe6whw5e9', '--quiet', 'distribute']' returned non-zero exit status 1.\n",
      "  \u001b[31m   \u001b[0m \u001b[31m[end of output]\u001b[0m\n",
      "  \n",
      "  \u001b[1;35mnote\u001b[0m: This error originates from a subprocess, and is likely not a problem with pip.\n",
      "\u001b[?25h\u001b[1;31merror\u001b[0m: \u001b[1mmetadata-generation-failed\u001b[0m\n",
      "\n",
      "\u001b[31m×\u001b[0m Encountered error while generating package metadata.\n",
      "\u001b[31m╰─>\u001b[0m See above for output.\n",
      "\n",
      "\u001b[1;35mnote\u001b[0m: This is an issue with the package mentioned above, not pip.\n",
      "\u001b[1;36mhint\u001b[0m: See above for details.\n",
      "Note: you may need to restart the kernel to use updated packages.\n",
      "Requirement already satisfied: openai in /Library/Frameworks/Python.framework/Versions/3.12/lib/python3.12/site-packages (1.35.10)\n",
      "Requirement already satisfied: anyio<5,>=3.5.0 in /Library/Frameworks/Python.framework/Versions/3.12/lib/python3.12/site-packages (from openai) (4.4.0)\n",
      "Requirement already satisfied: distro<2,>=1.7.0 in /Library/Frameworks/Python.framework/Versions/3.12/lib/python3.12/site-packages (from openai) (1.9.0)\n",
      "Requirement already satisfied: httpx<1,>=0.23.0 in /Library/Frameworks/Python.framework/Versions/3.12/lib/python3.12/site-packages (from openai) (0.27.0)\n",
      "Requirement already satisfied: pydantic<3,>=1.9.0 in /Library/Frameworks/Python.framework/Versions/3.12/lib/python3.12/site-packages (from openai) (2.8.0)\n",
      "Requirement already satisfied: sniffio in /Library/Frameworks/Python.framework/Versions/3.12/lib/python3.12/site-packages (from openai) (1.3.1)\n",
      "Requirement already satisfied: tqdm>4 in /Library/Frameworks/Python.framework/Versions/3.12/lib/python3.12/site-packages (from openai) (4.66.4)\n",
      "Requirement already satisfied: typing-extensions<5,>=4.7 in /Library/Frameworks/Python.framework/Versions/3.12/lib/python3.12/site-packages (from openai) (4.12.2)\n",
      "Requirement already satisfied: idna>=2.8 in /Library/Frameworks/Python.framework/Versions/3.12/lib/python3.12/site-packages (from anyio<5,>=3.5.0->openai) (3.7)\n",
      "Requirement already satisfied: certifi in /Library/Frameworks/Python.framework/Versions/3.12/lib/python3.12/site-packages (from httpx<1,>=0.23.0->openai) (2024.6.2)\n",
      "Requirement already satisfied: httpcore==1.* in /Library/Frameworks/Python.framework/Versions/3.12/lib/python3.12/site-packages (from httpx<1,>=0.23.0->openai) (1.0.5)\n",
      "Requirement already satisfied: h11<0.15,>=0.13 in /Library/Frameworks/Python.framework/Versions/3.12/lib/python3.12/site-packages (from httpcore==1.*->httpx<1,>=0.23.0->openai) (0.14.0)\n",
      "Requirement already satisfied: annotated-types>=0.4.0 in /Library/Frameworks/Python.framework/Versions/3.12/lib/python3.12/site-packages (from pydantic<3,>=1.9.0->openai) (0.7.0)\n",
      "Requirement already satisfied: pydantic-core==2.20.0 in /Library/Frameworks/Python.framework/Versions/3.12/lib/python3.12/site-packages (from pydantic<3,>=1.9.0->openai) (2.20.0)\n",
      "Note: you may need to restart the kernel to use updated packages.\n"
     ]
    }
   ],
   "source": [
    "%pip install rauth\n",
    "%pip install dotenv\n",
    "%pip install openai"
   ]
  },
  {
   "cell_type": "code",
   "execution_count": 1,
   "metadata": {},
   "outputs": [],
   "source": [
    "from dotenv import load_dotenv\n",
    "import os\n",
    "import json\n",
    "from openai import OpenAI\n",
    "from embedchain import App\n",
    "import pandas as pd\n",
    "load_dotenv()\n",
    "api_key = os.getenv(\"OPENAI_API_KEY\")\n",
    "client = OpenAI(api_key=api_key)"
   ]
  },
  {
   "cell_type": "code",
   "execution_count": 2,
   "metadata": {},
   "outputs": [],
   "source": [
    "assistant = client.beta.assistants.create(\n",
    "  name=\"Restaurant Server Assistant\",\n",
    "  instructions=\"You are professional server, you know the menu to about every restaurant and are able to understand fancy names to menu items for people who may not know what is the item about\",\n",
    "  model=\"gpt-3.5-turbo\",\n",
    "  tools=[{\"type\": \"file_search\"}],\n",
    ")"
   ]
  },
  {
   "cell_type": "code",
   "execution_count": 3,
   "metadata": {},
   "outputs": [],
   "source": [
    "from fatsecret import Fatsecret\n",
    "fs_key= os.getenv(\"FS_CONSUMER_KEY\")\n",
    "fs_secret= os.getenv(\"FS_CONSUMER_SECRET\")\n",
    "fs = Fatsecret(fs_key, fs_secret)\n",
    "\n"
   ]
  },
  {
   "cell_type": "code",
   "execution_count": 9,
   "metadata": {},
   "outputs": [
    {
     "name": "stdout",
     "output_type": "stream",
     "text": [
      "[{'food_description': 'Per 101g - Calories: 197kcal | Fat: 7.79g | Carbs: 0.00g | Protein: 29.80g', 'food_id': '1641', 'food_name': 'Chicken Breast', 'food_type': 'Generic', 'food_url': 'https://www.fatsecret.com/calories-nutrition/generic/chicken-breast-ns-as-to-skin-eaten'}, {'brand_name': 'Tyson Foods', 'food_description': 'Per 4 oz - Calories: 110kcal | Fat: 2.50g | Carbs: 0.00g | Protein: 23.00g', 'food_id': '48833', 'food_name': 'Boneless Skinless Chicken Breasts', 'food_type': 'Brand', 'food_url': 'https://www.fatsecret.com/calories-nutrition/tyson-foods/boneless-skinless-chicken-breasts'}, {'food_description': 'Per 101g - Calories: 247kcal | Fat: 15.49g | Carbs: 0.00g | Protein: 25.06g', 'food_id': '1695', 'food_name': 'Chicken Thigh', 'food_type': 'Generic', 'food_url': 'https://www.fatsecret.com/calories-nutrition/generic/chicken-thigh-ns-as-to-skin-eaten'}, {'food_description': 'Per 101g - Calories: 239kcal | Fat: 13.60g | Carbs: 0.00g | Protein: 27.30g', 'food_id': '448901', 'food_name': 'Grilled Chicken', 'food_type': 'Generic', 'food_url': 'https://www.fatsecret.com/calories-nutrition/generic/chicken-grilled-ns-as-to-skin-eaten'}, {'food_description': 'Per 100g - Calories: 110kcal | Fat: 1.24g | Carbs: 0.00g | Protein: 23.09g', 'food_id': '4881229', 'food_name': 'Skinless Chicken Breast', 'food_type': 'Generic', 'food_url': 'https://www.fatsecret.com/calories-nutrition/generic/chicken-breast-skinless'}, {'food_description': 'Per 101g - Calories: 216kcal | Fat: 11.15g | Carbs: 0.00g | Protein: 27.03g', 'food_id': '1677', 'food_name': 'Chicken Drumstick', 'food_type': 'Generic', 'food_url': 'https://www.fatsecret.com/calories-nutrition/generic/chicken-drumstick-ns-as-to-skin-eaten'}, {'food_description': 'Per 101g - Calories: 239kcal | Fat: 13.60g | Carbs: 0.00g | Protein: 27.30g', 'food_id': '419178', 'food_name': 'Rotisserie Chicken', 'food_type': 'Generic', 'food_url': 'https://www.fatsecret.com/calories-nutrition/generic/chicken-rotisserie-ns-as-to-skin-eaten'}, {'food_description': 'Per 100g - Calories: 237kcal | Fat: 11.89g | Carbs: 0.00g | Protein: 30.42g', 'food_id': '34511', 'food_name': 'Chicken Meat (Stewing, Stewed, Cooked)', 'food_type': 'Generic', 'food_url': 'https://www.fatsecret.com/calories-nutrition/usda/chicken-meat-(stewing-stewed-cooked)'}, {'brand_name': 'Valbest', 'food_description': 'Per 4 oz - Calories: 130kcal | Fat: 3.00g | Carbs: 0.00g | Protein: 25.00g', 'food_id': '3946778', 'food_name': 'Chicken Breast', 'food_type': 'Brand', 'food_url': 'https://www.fatsecret.com/calories-nutrition/valbest/chicken-breast'}, {'food_description': 'Per 100g - Calories: 167kcal | Fat: 6.63g | Carbs: 0.00g | Protein: 25.01g', 'food_id': '34499', 'food_name': 'Chicken Meat (Roasting, Roasted, Cooked)', 'food_type': 'Generic', 'food_url': 'https://www.fatsecret.com/calories-nutrition/usda/chicken-meat-(roasting-roasted-cooked)'}, {'food_description': 'Per 101g - Calories: 239kcal | Fat: 13.60g | Carbs: 0.00g | Protein: 27.30g', 'food_id': '1623', 'food_name': 'Chicken', 'food_type': 'Generic', 'food_url': 'https://www.fatsecret.com/calories-nutrition/generic/chicken-ns-as-to-skin-eaten'}, {'food_description': 'Per 101g - Calories: 209kcal | Fat: 10.88g | Carbs: 0.00g | Protein: 25.94g', 'food_id': '1697', 'food_name': 'Chicken Thigh (Skin Not Eaten)', 'food_type': 'Generic', 'food_url': 'https://www.fatsecret.com/calories-nutrition/generic/chicken-thigh-skin-not-eaten'}, {'food_description': 'Per 101g - Calories: 290kcal | Fat: 19.46g | Carbs: 0.00g | Protein: 26.86g', 'food_id': '1713', 'food_name': 'Chicken Wing', 'food_type': 'Generic', 'food_url': 'https://www.fatsecret.com/calories-nutrition/generic/chicken-wing-ns-as-to-skin-eaten'}, {'food_description': 'Per 100g - Calories: 297kcal | Fat: 18.82g | Carbs: 16.32g | Protein: 15.59g', 'food_id': '39983', 'food_name': 'Chicken (Breaded and Fried)', 'food_type': 'Generic', 'food_url': 'https://www.fatsecret.com/calories-nutrition/usda/chicken-(breaded-and-fried)'}, {'brand_name': 'Wal-Mart', 'food_description': 'Per 1 serving - Calories: 110kcal | Fat: 2.50g | Carbs: 0.00g | Protein: 23.00g', 'food_id': '4718517', 'food_name': 'Boneless Skinless Chicken Breast', 'food_type': 'Brand', 'food_url': 'https://www.fatsecret.com/calories-nutrition/wal-mart/boneless-skinless-chicken-breast'}, {'food_description': 'Per 101g - Calories: 247kcal | Fat: 15.49g | Carbs: 0.00g | Protein: 25.06g', 'food_id': '1696', 'food_name': 'Chicken Thigh (Skin Eaten)', 'food_type': 'Generic', 'food_url': 'https://www.fatsecret.com/calories-nutrition/generic/chicken-thigh-skin-eaten'}, {'food_description': 'Per 101g - Calories: 232kcal | Fat: 13.46g | Carbs: 0.00g | Protein: 25.96g', 'food_id': '1660', 'food_name': 'Chicken Leg (Skin Eaten)', 'food_type': 'Generic', 'food_url': 'https://www.fatsecret.com/calories-nutrition/generic/chicken-leg-(drumstick-and-thigh)-skin-eaten'}, {'food_description': 'Per 101g - Calories: 190kcal | Fat: 7.41g | Carbs: 0.00g | Protein: 28.93g', 'food_id': '1628', 'food_name': 'Roasted Broiled or Baked Chicken (Skin Not Eaten)', 'food_type': 'Generic', 'food_url': 'https://www.fatsecret.com/calories-nutrition/generic/chicken-roasted-broiled-or-baked-skin-not-eaten'}, {'food_description': 'Per 96g - Calories: 279kcal | Fat: 16.60g | Carbs: 9.59g | Protein: 21.45g', 'food_id': '1636', 'food_name': 'Baked or Fried Coated Chicken with Skin (Skin/Coating Eaten)', 'food_type': 'Generic', 'food_url': 'https://www.fatsecret.com/calories-nutrition/generic/chicken-coated-baked-or-fried-prepared-with-skin-skin-coating-eaten'}, {'food_description': 'Per 101g - Calories: 165kcal | Fat: 3.57g | Carbs: 0.00g | Protein: 31.02g', 'food_id': '1643', 'food_name': 'Chicken Breast (Skin Not Eaten)', 'food_type': 'Generic', 'food_url': 'https://www.fatsecret.com/calories-nutrition/generic/chicken-breast-skin-not-eaten'}]\n"
     ]
    }
   ],
   "source": [
    "# Checks that fatsecret is working\n",
    "foods_input = input(\"Enter a food to search for: \")\n",
    "foods = fs.foods_search(foods_input)\n",
    "food_description_content = foods[0]['food_description']\n",
    "\n",
    "print(foods)"
   ]
  },
  {
   "cell_type": "code",
   "execution_count": 5,
   "metadata": {},
   "outputs": [
    {
     "name": "stdout",
     "output_type": "stream",
     "text": [
      "Thread(id='thread_HshR3sPMO0xJhAUrnY8cw5GN', created_at=1721313995, metadata={}, object='thread', tool_resources=ToolResources(code_interpreter=None, file_search=None))\n"
     ]
    }
   ],
   "source": [
    "thread = client.beta.threads.create(\n",
    "    messages=[\n",
    "        {\n",
    "            'role': 'user',\n",
    "            'content': 'Use the fatsecret API to search for a food/menu items nutritional information provide the serving size, protein and calories'\n",
    "        },\n",
    "    ]\n",
    ")\n",
    "\n",
    "print(thread)"
   ]
  },
  {
   "cell_type": "code",
   "execution_count": 6,
   "metadata": {},
   "outputs": [
    {
     "ename": "AttributeError",
     "evalue": "'Beta' object has no attribute 'thread'",
     "output_type": "error",
     "traceback": [
      "\u001b[0;31m---------------------------------------------------------------------------\u001b[0m",
      "\u001b[0;31mAttributeError\u001b[0m                            Traceback (most recent call last)",
      "Cell \u001b[0;32mIn[6], line 1\u001b[0m\n\u001b[0;32m----> 1\u001b[0m run \u001b[38;5;241m=\u001b[39m \u001b[43mclient\u001b[49m\u001b[38;5;241;43m.\u001b[39;49m\u001b[43mbeta\u001b[49m\u001b[38;5;241;43m.\u001b[39;49m\u001b[43mthread\u001b[49m\u001b[38;5;241m.\u001b[39mruns\u001b[38;5;241m.\u001b[39mcreate_and_poll(\n\u001b[1;32m      2\u001b[0m     thread_id\u001b[38;5;241m=\u001b[39mthread\u001b[38;5;241m.\u001b[39mid, assistant_id\u001b[38;5;241m=\u001b[39massistant\u001b[38;5;241m.\u001b[39mid\n\u001b[1;32m      3\u001b[0m )\n\u001b[1;32m      5\u001b[0m \u001b[38;5;28mprint\u001b[39m(run)\n",
      "\u001b[0;31mAttributeError\u001b[0m: 'Beta' object has no attribute 'thread'"
     ]
    }
   ],
   "source": [
    "run = client.beta.thread.runs.create_and_poll(\n",
    "    thread_id=thread.id, assistant_id=assistant.id\n",
    ")\n",
    "\n",
    "print(run)"
   ]
  }
 ],
 "metadata": {
  "kernelspec": {
   "display_name": "Python 3",
   "language": "python",
   "name": "python3"
  },
  "language_info": {
   "codemirror_mode": {
    "name": "ipython",
    "version": 3
   },
   "file_extension": ".py",
   "mimetype": "text/x-python",
   "name": "python",
   "nbconvert_exporter": "python",
   "pygments_lexer": "ipython3",
   "version": "3.12.4"
  }
 },
 "nbformat": 4,
 "nbformat_minor": 2
}
