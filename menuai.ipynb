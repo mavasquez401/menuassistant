{
 "cells": [
  {
   "cell_type": "code",
   "execution_count": 7,
   "metadata": {},
   "outputs": [
    {
     "name": "stdout",
     "output_type": "stream",
     "text": [
      "Collecting rauth\n",
      "  Downloading rauth-0.7.3.tar.gz (16 kB)\n",
      "  Preparing metadata (setup.py) ... \u001b[?25ldone\n",
      "\u001b[?25hRequirement already satisfied: requests>=1.2.3 in /Library/Frameworks/Python.framework/Versions/3.12/lib/python3.12/site-packages (from rauth) (2.32.3)\n",
      "Requirement already satisfied: charset-normalizer<4,>=2 in /Library/Frameworks/Python.framework/Versions/3.12/lib/python3.12/site-packages (from requests>=1.2.3->rauth) (3.3.2)\n",
      "Requirement already satisfied: idna<4,>=2.5 in /Library/Frameworks/Python.framework/Versions/3.12/lib/python3.12/site-packages (from requests>=1.2.3->rauth) (3.7)\n",
      "Requirement already satisfied: urllib3<3,>=1.21.1 in /Library/Frameworks/Python.framework/Versions/3.12/lib/python3.12/site-packages (from requests>=1.2.3->rauth) (2.2.2)\n",
      "Requirement already satisfied: certifi>=2017.4.17 in /Library/Frameworks/Python.framework/Versions/3.12/lib/python3.12/site-packages (from requests>=1.2.3->rauth) (2024.6.2)\n",
      "Building wheels for collected packages: rauth\n",
      "  Building wheel for rauth (setup.py) ... \u001b[?25ldone\n",
      "\u001b[?25h  Created wheel for rauth: filename=rauth-0.7.3-py3-none-any.whl size=16061 sha256=8b7f193aa7453a94611a108d6c8c4e7f218be9e46c8166ddc7f742fbf07060ba\n",
      "  Stored in directory: /Users/manny/Library/Caches/pip/wheels/e0/6b/b5/7210eeccce698d2d5124aaaa5edeba94a53e935e6f2c9f72a0\n",
      "Successfully built rauth\n",
      "Installing collected packages: rauth\n",
      "Successfully installed rauth-0.7.3\n",
      "Note: you may need to restart the kernel to use updated packages.\n"
     ]
    }
   ],
   "source": [
    "%pip install rauth"
   ]
  },
  {
   "cell_type": "code",
   "execution_count": 5,
   "metadata": {},
   "outputs": [],
   "source": [
    "from dotenv import load_dotenv\n",
    "import os\n",
    "import json\n",
    "from openai import OpenAI\n",
    "from embedchain import App\n",
    "import pandas as pd\n",
    "load_dotenv()\n",
    "api_key = os.getenv(\"OPENAI_API_KEY\")\n",
    "client = OpenAI(api_key=api_key)"
   ]
  },
  {
   "cell_type": "code",
   "execution_count": null,
   "metadata": {},
   "outputs": [],
   "source": [
    "assistant = client.beta.assistants.create(\n",
    "  name=\"Restaurant Server Assistant\",\n",
    "  instructions=\"You are professional server, you know the menu to about every restaurant and are able to understand fancy names to menu items for people who may not know what is the item about\",\n",
    "  model=\"gpt-3.5-turbo\",\n",
    "  tools=[{\"type\": \"file_search\"}],\n",
    ")"
   ]
  },
  {
   "cell_type": "code",
   "execution_count": 11,
   "metadata": {},
   "outputs": [],
   "source": [
    "from fatsecret import Fatsecret\n",
    "fs_key= os.getenv(\"FAT_SECRET_CONSUMER_KEY\")\n",
    "fs_secret= os.getenv(\"FAT_SECRET_CONSUMER_SECRET\")\n",
    "fs = Fatsecret(fs_key, fs_secret)\n",
    "\n"
   ]
  },
  {
   "cell_type": "code",
   "execution_count": 14,
   "metadata": {},
   "outputs": [
    {
     "name": "stdout",
     "output_type": "stream",
     "text": [
      "[{'food_description': 'Per 381g - Calories: 584kcal | Fat: 20.60g | Carbs: 71.02g | Protein: 27.54g', 'food_id': '5012', 'food_name': 'Spaghetti with Tomato Sauce and Meatballs', 'food_type': 'Generic', 'food_url': 'https://www.fatsecret.com/calories-nutrition/generic/spaghetti-with-tomato-sauce-and-meatballs-or-spaghetti-with-meat-sauce-or-spaghetti-with-meat-sauce-and-meatballs'}, {'brand_name': 'Spaghetti Warehouse', 'food_description': 'Per 1 serving - Calories: 770kcal | Fat: 27.00g | Carbs: 91.00g | Protein: 40.00g', 'food_id': '532836', 'food_name': 'Spaghetti and Meatballs', 'food_type': 'Brand', 'food_url': 'https://www.fatsecret.com/calories-nutrition/spaghetti-warehouse/spaghetti-and-meatballs'}, {'brand_name': \"Marie Callender's\", 'food_description': 'Per 1 meal - Calories: 420kcal | Fat: 13.00g | Carbs: 52.00g | Protein: 23.00g', 'food_id': '3675550', 'food_name': 'Spaghetti & Meatballs', 'food_type': 'Brand', 'food_url': 'https://www.fatsecret.com/calories-nutrition/marie-callenders/spaghetti-and-meatballs'}, {'brand_name': 'Mighty Meals', 'food_description': 'Per 1 serving - Calories: 490kcal | Fat: 14.00g | Carbs: 53.00g | Protein: 37.00g', 'food_id': '29420872', 'food_name': 'Spaghetti & Meatballs', 'food_type': 'Brand', 'food_url': 'https://www.fatsecret.com/calories-nutrition/mighty-meals/spaghetti-meatballs'}, {'brand_name': 'Chef Boyardee', 'food_description': 'Per 1 bowl - Calories: 210kcal | Fat: 9.00g | Carbs: 25.00g | Protein: 7.00g', 'food_id': '63587', 'food_name': 'Microwaveable Spaghetti & Meatballs Bowl', 'food_type': 'Brand', 'food_url': 'https://www.fatsecret.com/calories-nutrition/chef-boyardee/microwaveable-spaghetti-and-meatballs-bowl'}, {'brand_name': 'Last Minute Gourmet', 'food_description': 'Per 1 serving - Calories: 430kcal | Fat: 15.00g | Carbs: 52.00g | Protein: 17.00g', 'food_id': '2548117', 'food_name': 'Spaghetti & Meatballs', 'food_type': 'Brand', 'food_url': 'https://www.fatsecret.com/calories-nutrition/last-minute-gourmet/spaghetti-and-meatballs'}, {'brand_name': 'Noodles & Company', 'food_description': 'Per 1 serving - Calories: 450kcal | Fat: 21.00g | Carbs: 50.00g | Protein: 16.00g', 'food_id': '72233999', 'food_name': 'Kids Spaghetti & Meatballs', 'food_type': 'Brand', 'food_url': 'https://www.fatsecret.com/calories-nutrition/noodles-company/kids-spaghetti-meatballs'}, {'brand_name': 'Claim Jumper Restaurant', 'food_description': 'Per 1 serving - Calories: 1448kcal | Fat: 81.00g | Carbs: 111.00g | Protein: 80.00g', 'food_id': '74658089', 'food_name': 'Spaghetti & Meatballs', 'food_type': 'Brand', 'food_url': 'https://www.fatsecret.com/calories-nutrition/claim-jumper-restaurant/spaghetti-meatballs'}, {'brand_name': \"Carrabba's Italian Grill\", 'food_description': 'Per 1 serving - Calories: 1220kcal | Fat: 46.00g | Carbs: 141.00g | Protein: 56.00g', 'food_id': '73144733', 'food_name': 'Spaghetti with Meatballs', 'food_type': 'Brand', 'food_url': 'https://www.fatsecret.com/calories-nutrition/carrabbas-italian-grill/spaghetti-with-meatballs'}, {'brand_name': \"Fazoli's\", 'food_description': 'Per 1 serving - Calories: 300kcal | Fat: 7.00g | Carbs: 45.00g | Protein: 12.00g', 'food_id': '206928', 'food_name': \"Spaghetti with Meatballs (Kid's Meal)\", 'food_type': 'Brand', 'food_url': 'https://www.fatsecret.com/calories-nutrition/fazolis/spaghetti-with-meatballs-(kids-meal)'}, {'brand_name': 'Chef Boyardee', 'food_description': 'Per 1 can - Calories: 410kcal | Fat: 17.00g | Carbs: 49.00g | Protein: 14.00g', 'food_id': '39688416', 'food_name': 'Spaghetti & Meatballs (Can)', 'food_type': 'Brand', 'food_url': 'https://www.fatsecret.com/calories-nutrition/chef-boyardee/spaghetti-meatballs-(can)'}, {'brand_name': 'Chef Boyardee', 'food_description': 'Per 1 cup - Calories: 260kcal | Fat: 11.00g | Carbs: 32.00g | Protein: 9.00g', 'food_id': '4416868', 'food_name': 'Mini Bites Spaghetti & Meatballs', 'food_type': 'Brand', 'food_url': 'https://www.fatsecret.com/calories-nutrition/chef-boyardee/mini-bites-spaghetti-and-meatballs'}, {'brand_name': 'Cheesecake Factory', 'food_description': 'Per 1 serving - Calories: 1390kcal | Fat: 72.00g | Carbs: 140.00g | Protein: 49.00g', 'food_id': '69472564', 'food_name': 'Spaghetti and Meatballs - Lunch', 'food_type': 'Brand', 'food_url': 'https://www.fatsecret.com/calories-nutrition/cheesecake-factory/spaghetti-and-meatballs-lunch'}, {'brand_name': 'Publix', 'food_description': 'Per 1 cup - Calories: 280kcal | Fat: 11.00g | Carbs: 34.00g | Protein: 11.00g', 'food_id': '2372341', 'food_name': 'Spaghetti with Meatballs', 'food_type': 'Brand', 'food_url': 'https://www.fatsecret.com/calories-nutrition/publix/spaghetti-with-meatballs'}, {'brand_name': \"Sam's Choice\", 'food_description': 'Per 1 cup - Calories: 240kcal | Fat: 10.00g | Carbs: 29.00g | Protein: 9.00g', 'food_id': '22072589', 'food_name': 'Marinara with Spaghetti & Meatballs', 'food_type': 'Brand', 'food_url': 'https://www.fatsecret.com/calories-nutrition/sams-choice/marinara-with-spaghetti-meatballs'}, {'food_description': 'Per 263g - Calories: 611kcal | Fat: 28.73g | Carbs: 46.37g | Protein: 39.34g', 'food_id': '2759', 'food_name': 'Meatball and Spaghetti Sauce Submarine Sandwich', 'food_type': 'Generic', 'food_url': 'https://www.fatsecret.com/calories-nutrition/generic/meatball-and-spaghetti-sauce-submarine-sandwich'}, {'food_description': 'Per 514g - Calories: 971kcal | Fat: 63.12g | Carbs: 1.34g | Protein: 92.73g', 'food_id': '2297', 'food_name': 'Meatballs with Sauce (Mixture)', 'food_type': 'Generic', 'food_url': 'https://www.fatsecret.com/calories-nutrition/generic/meatballs-with-sauce-(mixture)'}, {'brand_name': 'Fresh & Easy', 'food_description': 'Per 1 cup - Calories: 240kcal | Fat: 7.00g | Carbs: 29.00g | Protein: 14.00g', 'food_id': '981336', 'food_name': 'Spaghetti & Meatballs', 'food_type': 'Brand', 'food_url': 'https://www.fatsecret.com/calories-nutrition/fresh-and-easy/spaghetti-and-meatballs'}, {'brand_name': 'Banquet', 'food_description': 'Per 1 meal - Calories: 330kcal | Fat: 15.00g | Carbs: 35.00g | Protein: 14.00g', 'food_id': '4758984', 'food_name': 'Spaghetti & Meatballs', 'food_type': 'Brand', 'food_url': 'https://www.fatsecret.com/calories-nutrition/banquet/spaghetti-and-meatballs'}, {'brand_name': 'Perfect Fit Meals', 'food_description': 'Per 1 tray - Calories: 300kcal | Fat: 11.00g | Carbs: 33.00g | Protein: 18.00g', 'food_id': '6659779', 'food_name': 'Spaghetti & Turkey Meatballs', 'food_type': 'Brand', 'food_url': 'https://www.fatsecret.com/calories-nutrition/perfect-fit-meals/spaghetti-and-turkey-meatballs'}]\n"
     ]
    }
   ],
   "source": [
    "# Checks that fatsecret is working\n",
    "foods = fs.foods_search(\"Spaghetti and Meatballs\")\n",
    "\n",
    "print(foods)"
   ]
  }
 ],
 "metadata": {
  "kernelspec": {
   "display_name": "Python 3",
   "language": "python",
   "name": "python3"
  },
  "language_info": {
   "codemirror_mode": {
    "name": "ipython",
    "version": 3
   },
   "file_extension": ".py",
   "mimetype": "text/x-python",
   "name": "python",
   "nbconvert_exporter": "python",
   "pygments_lexer": "ipython3",
   "version": "3.12.4"
  }
 },
 "nbformat": 4,
 "nbformat_minor": 2
}
