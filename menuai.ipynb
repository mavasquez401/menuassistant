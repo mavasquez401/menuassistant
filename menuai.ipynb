{
 "cells": [
  {
   "cell_type": "code",
   "execution_count": 7,
   "metadata": {},
   "outputs": [
    {
     "name": "stdout",
     "output_type": "stream",
     "text": [
      "Collecting rauth\n",
      "  Downloading rauth-0.7.3.tar.gz (16 kB)\n",
      "  Preparing metadata (setup.py) ... \u001b[?25ldone\n",
      "\u001b[?25hRequirement already satisfied: requests>=1.2.3 in /Library/Frameworks/Python.framework/Versions/3.12/lib/python3.12/site-packages (from rauth) (2.32.3)\n",
      "Requirement already satisfied: charset-normalizer<4,>=2 in /Library/Frameworks/Python.framework/Versions/3.12/lib/python3.12/site-packages (from requests>=1.2.3->rauth) (3.3.2)\n",
      "Requirement already satisfied: idna<4,>=2.5 in /Library/Frameworks/Python.framework/Versions/3.12/lib/python3.12/site-packages (from requests>=1.2.3->rauth) (3.7)\n",
      "Requirement already satisfied: urllib3<3,>=1.21.1 in /Library/Frameworks/Python.framework/Versions/3.12/lib/python3.12/site-packages (from requests>=1.2.3->rauth) (2.2.2)\n",
      "Requirement already satisfied: certifi>=2017.4.17 in /Library/Frameworks/Python.framework/Versions/3.12/lib/python3.12/site-packages (from requests>=1.2.3->rauth) (2024.6.2)\n",
      "Building wheels for collected packages: rauth\n",
      "  Building wheel for rauth (setup.py) ... \u001b[?25ldone\n",
      "\u001b[?25h  Created wheel for rauth: filename=rauth-0.7.3-py3-none-any.whl size=16061 sha256=8b7f193aa7453a94611a108d6c8c4e7f218be9e46c8166ddc7f742fbf07060ba\n",
      "  Stored in directory: /Users/manny/Library/Caches/pip/wheels/e0/6b/b5/7210eeccce698d2d5124aaaa5edeba94a53e935e6f2c9f72a0\n",
      "Successfully built rauth\n",
      "Installing collected packages: rauth\n",
      "Successfully installed rauth-0.7.3\n",
      "Note: you may need to restart the kernel to use updated packages.\n"
     ]
    }
   ],
   "source": [
    "%pip install rauth"
   ]
  },
  {
   "cell_type": "code",
   "execution_count": 5,
   "metadata": {},
   "outputs": [],
   "source": [
    "from dotenv import load_dotenv\n",
    "import os\n",
    "import json\n",
    "from openai import OpenAI\n",
    "from embedchain import App\n",
    "import pandas as pd\n",
    "load_dotenv()\n",
    "api_key = os.getenv(\"OPENAI_API_KEY\")\n",
    "client = OpenAI(api_key=api_key)"
   ]
  },
  {
   "cell_type": "code",
   "execution_count": null,
   "metadata": {},
   "outputs": [],
   "source": [
    "assistant = client.beta.assistants.create(\n",
    "  name=\"Restaurant Server Assistant\",\n",
    "  instructions=\"You are professional server, you know the menu to about every restaurant and are able to understand fancy names to menu items for people who may not know what is the item about\",\n",
    "  model=\"gpt-3.5-turbo\",\n",
    "  tools=[{\"type\": \"file_search\"}],\n",
    ")"
   ]
  },
  {
   "cell_type": "code",
   "execution_count": 11,
   "metadata": {},
   "outputs": [],
   "source": [
    "from fatsecret import Fatsecret\n",
    "fs_key= os.getenv(\"FS_CONSUMER_KEY\")\n",
    "fs_secret= os.getenv(\"FS_CONSUMER_SECRET\")\n",
    "fs = Fatsecret(fs_key, fs_secret)\n",
    "\n"
   ]
  },
  {
   "cell_type": "code",
   "execution_count": 18,
   "metadata": {},
   "outputs": [
    {
     "name": "stdout",
     "output_type": "stream",
     "text": [
      "[{'brand_name': 'Fresh & Easy', 'food_description': 'Per 2/3 cup - Calories: 200kcal | Fat: 11.00g | Carbs: 7.00g | Protein: 19.00g', 'food_id': '2600676', 'food_name': 'Chicken Tikka Masala', 'food_type': 'Brand', 'food_url': 'https://www.fatsecret.com/calories-nutrition/fresh-and-easy/chicken-tikka-masala'}, {'food_description': 'Per 997g - Calories: 2322kcal | Fat: 147.38g | Carbs: 53.71g | Protein: 152.46g', 'food_id': '4756287', 'food_name': 'Chicken Marsala', 'food_type': 'Generic', 'food_url': 'https://www.fatsecret.com/calories-nutrition/generic/chicken-marsala'}, {'brand_name': 'Discover Cuisine', 'food_description': 'Per 1 tray - Calories: 640kcal | Fat: 10.00g | Carbs: 108.00g | Protein: 32.00g', 'food_id': '45266', 'food_name': 'Chicken Tikka Masala and Basmati Rice', 'food_type': 'Brand', 'food_url': 'https://www.fatsecret.com/calories-nutrition/discover-cuisine/chicken-tikka-masala-and-basmati-rice'}, {'brand_name': \"Trader Joe's\", 'food_description': 'Per 1 cup - Calories: 290kcal | Fat: 9.00g | Carbs: 36.00g | Protein: 18.00g', 'food_id': '1016228', 'food_name': 'Chicken Tikka Masala with Basmati Rice', 'food_type': 'Brand', 'food_url': 'https://www.fatsecret.com/calories-nutrition/trader-joes/chicken-tikka-masala-with-basmati-rice'}, {'brand_name': 'Jyoti', 'food_description': 'Per 5 oz - Calories: 250kcal | Fat: 15.00g | Carbs: 9.00g | Protein: 20.00g', 'food_id': '1765345', 'food_name': 'Chicken Tikka Masala', 'food_type': 'Brand', 'food_url': 'https://www.fatsecret.com/calories-nutrition/jyoti/chicken-tikka-masala'}, {'brand_name': 'Tandoor Chef', 'food_description': 'Per 1 tray - Calories: 400kcal | Fat: 14.00g | Carbs: 50.00g | Protein: 16.00g', 'food_id': '5072325', 'food_name': 'Chicken Tikka Masala w/Rice', 'food_type': 'Brand', 'food_url': 'https://www.fatsecret.com/calories-nutrition/tandoor-chef/chicken-tikka-masala-w-rice'}, {'brand_name': \"Maggiano's\", 'food_description': 'Per 1 serving - Calories: 970kcal | Fat: 43.00g | Carbs: 74.00g | Protein: 67.00g', 'food_id': '74965115', 'food_name': 'Chicken Marsala', 'food_type': 'Brand', 'food_url': 'https://www.fatsecret.com/calories-nutrition/maggianos/chicken-marsala'}, {'brand_name': 'Bremer', 'food_description': 'Per 1/2 package - Calories: 300kcal | Fat: 10.00g | Carbs: 31.00g | Protein: 21.00g', 'food_id': '22974344', 'food_name': 'Chicken Marsala', 'food_type': 'Brand', 'food_url': 'https://www.fatsecret.com/calories-nutrition/bremer/chicken-marsala'}, {'brand_name': 'Fresh & Easy', 'food_description': 'Per 1 cup - Calories: 270kcal | Fat: 13.00g | Carbs: 30.00g | Protein: 9.00g', 'food_id': '243630', 'food_name': 'Chicken Marsala', 'food_type': 'Brand', 'food_url': 'https://www.fatsecret.com/calories-nutrition/fresh-and-easy/chicken-marsala'}, {'brand_name': 'Sodexo', 'food_description': 'Per 1 serving - Calories: 200kcal | Fat: 8.00g | Carbs: 10.00g | Protein: 19.00g', 'food_id': '10677465', 'food_name': 'Chicken Marsala', 'food_type': 'Brand', 'food_url': 'https://www.fatsecret.com/calories-nutrition/sodexo/chicken-marsala'}, {'brand_name': 'Vanguard', 'food_description': 'Per 1/2 cup - Calories: 130kcal | Fat: 6.00g | Carbs: 8.00g | Protein: 11.00g', 'food_id': '3769273', 'food_name': 'Chicken Marsala', 'food_type': 'Brand', 'food_url': 'https://www.fatsecret.com/calories-nutrition/vanguard/chicken-marsala'}, {'brand_name': \"Trader Joe's\", 'food_description': 'Per 1/2 package - Calories: 270kcal | Fat: 10.00g | Carbs: 10.00g | Protein: 36.00g', 'food_id': '60492', 'food_name': 'Chicken Marsala', 'food_type': 'Brand', 'food_url': 'https://www.fatsecret.com/calories-nutrition/trader-joes/chicken-marsala'}, {'brand_name': 'Cafe Spice', 'food_description': 'Per 1/2 container - Calories: 360kcal | Fat: 15.00g | Carbs: 42.00g | Protein: 13.00g', 'food_id': '11242851', 'food_name': 'Chicken Tikka Masala with Saffron Rice', 'food_type': 'Brand', 'food_url': 'https://www.fatsecret.com/calories-nutrition/cafe-spice/chicken-tikka-masala-with-saffron-rice'}, {'brand_name': 'Cafe Spice', 'food_description': 'Per 1/2 package - Calories: 320kcal | Fat: 5.00g | Carbs: 52.00g | Protein: 16.00g', 'food_id': '3639899', 'food_name': 'Chicken Tikka Masala', 'food_type': 'Brand', 'food_url': 'https://www.fatsecret.com/calories-nutrition/cafe-spice/chicken-tikka-masala'}, {'brand_name': \"Milano's Italian Grille\", 'food_description': 'Per 1 cup - Calories: 270kcal | Fat: 5.00g | Carbs: 29.00g | Protein: 25.00g', 'food_id': '560237', 'food_name': 'Chicken Marsala', 'food_type': 'Brand', 'food_url': 'https://www.fatsecret.com/calories-nutrition/milanos-italian-grille/chicken-marsala'}, {'brand_name': 'Mighty Meals', 'food_description': 'Per 1 meal - Calories: 510kcal | Fat: 7.00g | Carbs: 52.00g | Protein: 57.00g', 'food_id': '55651158', 'food_name': 'Chicken Marsala', 'food_type': 'Brand', 'food_url': 'https://www.fatsecret.com/calories-nutrition/mighty-meals/chicken-marsala'}, {'brand_name': 'McCormick', 'food_description': 'Per 1 serving - Calories: 269kcal | Fat: 12.00g | Carbs: 11.00g | Protein: 24.00g', 'food_id': '2512174', 'food_name': 'Chicken Marsala', 'food_type': 'Brand', 'food_url': 'https://www.fatsecret.com/calories-nutrition/mccormick/chicken-marsala'}, {'brand_name': \"Carrabba's Italian Grill\", 'food_description': 'Per 1 serving - Calories: 420kcal | Fat: 22.00g | Carbs: 4.00g | Protein: 47.00g', 'food_id': '59773', 'food_name': 'Chicken Marsala', 'food_type': 'Brand', 'food_url': 'https://www.fatsecret.com/calories-nutrition/carrabbas-italian-grill/chicken-marsala'}, {'brand_name': 'Freshly', 'food_description': 'Per 1 tray - Calories: 470kcal | Fat: 22.00g | Carbs: 28.00g | Protein: 41.00g', 'food_id': '17343787', 'food_name': 'Chicken Marsala', 'food_type': 'Brand', 'food_url': 'https://www.fatsecret.com/calories-nutrition/freshly/chicken-marsala'}, {'brand_name': 'Safeway Select', 'food_description': 'Per 1 tray - Calories: 260kcal | Fat: 5.00g | Carbs: 36.00g | Protein: 17.00g', 'food_id': '6246467', 'food_name': 'Chicken Tikka Masala', 'food_type': 'Brand', 'food_url': 'https://www.fatsecret.com/calories-nutrition/safeway-select/chicken-tikka-masala'}]\n"
     ]
    }
   ],
   "source": [
    "# Checks that fatsecret is working\n",
    "foods = fs.foods_search(input(\"Enter a food to search for: \"))\n",
    "\n",
    "print(foods)"
   ]
  }
 ],
 "metadata": {
  "kernelspec": {
   "display_name": "Python 3",
   "language": "python",
   "name": "python3"
  },
  "language_info": {
   "codemirror_mode": {
    "name": "ipython",
    "version": 3
   },
   "file_extension": ".py",
   "mimetype": "text/x-python",
   "name": "python",
   "nbconvert_exporter": "python",
   "pygments_lexer": "ipython3",
   "version": "3.12.4"
  }
 },
 "nbformat": 4,
 "nbformat_minor": 2
}
